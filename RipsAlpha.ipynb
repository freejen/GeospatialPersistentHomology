{
 "cells": [
  {
   "cell_type": "code",
   "execution_count": 94,
   "id": "cb1a9362",
   "metadata": {},
   "outputs": [],
   "source": [
    "import geopandas as gpd\n",
    "import pandas as pd\n",
    "import gudhi\n",
    "import matplotlib.pyplot as plt"
   ]
  },
  {
   "cell_type": "code",
   "execution_count": 95,
   "id": "e06fbd96",
   "metadata": {},
   "outputs": [],
   "source": [
    "SHAPE_PATH = 'dataset/shapefiles/001-alameda.shp'\n",
    "VOTES_PATH = 'dataset/final-results/001-alameda.csv'\n",
    "\n",
    "shapes_gdf = gpd.read_file(SHAPE_PATH)\n",
    "votes_df = pd.read_csv(VOTES_PATH)"
   ]
  },
  {
   "cell_type": "code",
   "execution_count": 96,
   "id": "f62c2ff3",
   "metadata": {},
   "outputs": [],
   "source": [
    "shapes_gdf.columns.values\n",
    "shapes_gdf = shapes_gdf.set_index('pct16').drop('area', axis=1)\n",
    "shapes_gdf['centroid'] = shapes_gdf.to_crs('epsg:3785').centroid.to_crs(shapes_gdf.crs)\n",
    "shapes_gdf = shapes_gdf.drop('geometry', axis=1)"
   ]
  },
  {
   "cell_type": "code",
   "execution_count": 97,
   "id": "53bebfa3",
   "metadata": {},
   "outputs": [],
   "source": [
    "votes_df = votes_df.set_index('pct16')[['pres_clinton', 'pres_trump']]\n",
    "gdf = shapes_gdf.join(votes_df)\n",
    "gdf = gdf[gdf['pres_clinton'] > gdf['pres_trump']]"
   ]
  },
  {
   "cell_type": "code",
   "execution_count": 98,
   "id": "1131165c",
   "metadata": {},
   "outputs": [],
   "source": [
    "points = [[x, y] for x, y in zip(shapes_gdf['centroid'].x, shapes_gdf['centroid'].y)]"
   ]
  },
  {
   "cell_type": "code",
   "execution_count": 99,
   "id": "dfbc0c7e",
   "metadata": {},
   "outputs": [],
   "source": [
    "rips_complex = gudhi.RipsComplex(points)\n",
    "simplex_tree = rips_complex.create_simplex_tree()"
   ]
  },
  {
   "cell_type": "code",
   "execution_count": 100,
   "id": "4fb4ea2d",
   "metadata": {},
   "outputs": [],
   "source": [
    "alpha_complex = gudhi.AlphaComplex(points)\n",
    "simplex_tree = alpha_complex.create_simplex_tree()"
   ]
  },
  {
   "cell_type": "code",
   "execution_count": null,
   "id": "fcd25574",
   "metadata": {},
   "outputs": [],
   "source": []
  }
 ],
 "metadata": {
  "kernelspec": {
   "display_name": "Python 3 (ipykernel)",
   "language": "python",
   "name": "python3"
  },
  "language_info": {
   "codemirror_mode": {
    "name": "ipython",
    "version": 3
   },
   "file_extension": ".py",
   "mimetype": "text/x-python",
   "name": "python",
   "nbconvert_exporter": "python",
   "pygments_lexer": "ipython3",
   "version": "3.8.10"
  }
 },
 "nbformat": 4,
 "nbformat_minor": 5
}
