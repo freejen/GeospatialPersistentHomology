{
 "cells": [
  {
   "cell_type": "markdown",
   "id": "0b3c582b",
   "metadata": {},
   "source": [
    "# PERSISTENT HOMOLOGY OF GEOSPATIAL DATA: A CASE STUDY WITH VOTING"
   ]
  },
  {
   "cell_type": "markdown",
   "id": "564ec963",
   "metadata": {},
   "source": [
    "## Geoprostorni podaci"
   ]
  },
  {
   "cell_type": "code",
   "execution_count": null,
   "id": "97a5fb36",
   "metadata": {},
   "outputs": [],
   "source": []
  }
 ],
 "metadata": {
  "kernelspec": {
   "display_name": "Python 3 (ipykernel)",
   "language": "python",
   "name": "python3"
  },
  "language_info": {
   "codemirror_mode": {
    "name": "ipython",
    "version": 3
   },
   "file_extension": ".py",
   "mimetype": "text/x-python",
   "name": "python",
   "nbconvert_exporter": "python",
   "pygments_lexer": "ipython3",
   "version": "3.8.13"
  }
 },
 "nbformat": 4,
 "nbformat_minor": 5
}
