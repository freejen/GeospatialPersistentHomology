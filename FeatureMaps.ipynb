{
 "cells": [
  {
   "cell_type": "code",
   "execution_count": 1,
   "id": "89b17976",
   "metadata": {},
   "outputs": [],
   "source": [
    "from utils import load_data, persistance_1D_with_loops, plot_loops\n",
    "import gudhi"
   ]
  },
  {
   "cell_type": "code",
   "execution_count": 2,
   "id": "ed3d137d",
   "metadata": {},
   "outputs": [
    {
     "data": {
      "text/html": [
       "<div>\n",
       "<style scoped>\n",
       "    .dataframe tbody tr th:only-of-type {\n",
       "        vertical-align: middle;\n",
       "    }\n",
       "\n",
       "    .dataframe tbody tr th {\n",
       "        vertical-align: top;\n",
       "    }\n",
       "\n",
       "    .dataframe thead th {\n",
       "        text-align: right;\n",
       "    }\n",
       "</style>\n",
       "<table border=\"1\" class=\"dataframe\">\n",
       "  <thead>\n",
       "    <tr style=\"text-align: right;\">\n",
       "      <th></th>\n",
       "      <th>geometry</th>\n",
       "      <th>centroid</th>\n",
       "      <th>abs_clinton</th>\n",
       "      <th>abs_trump</th>\n",
       "      <th>per_clinton</th>\n",
       "      <th>per_trump</th>\n",
       "    </tr>\n",
       "    <tr>\n",
       "      <th>pct16</th>\n",
       "      <th></th>\n",
       "      <th></th>\n",
       "      <th></th>\n",
       "      <th></th>\n",
       "      <th></th>\n",
       "      <th></th>\n",
       "    </tr>\n",
       "  </thead>\n",
       "  <tbody>\n",
       "    <tr>\n",
       "      <th>107-504802</th>\n",
       "      <td>MULTIPOLYGON (((-119.05812 36.05852, -119.0581...</td>\n",
       "      <td>POINT (-119.06309 36.06087)</td>\n",
       "      <td>70.0</td>\n",
       "      <td>110.0</td>\n",
       "      <td>0.388889</td>\n",
       "      <td>0.611111</td>\n",
       "    </tr>\n",
       "    <tr>\n",
       "      <th>107-102802</th>\n",
       "      <td>POLYGON ((-119.13270 36.29711, -119.13229 36.2...</td>\n",
       "      <td>POINT (-119.13494 36.29483)</td>\n",
       "      <td>56.0</td>\n",
       "      <td>159.0</td>\n",
       "      <td>0.260465</td>\n",
       "      <td>0.739535</td>\n",
       "    </tr>\n",
       "    <tr>\n",
       "      <th>107-499822</th>\n",
       "      <td>MULTIPOLYGON (((-118.96650 36.56958, -118.9667...</td>\n",
       "      <td>POINT (-118.76676 36.64774)</td>\n",
       "      <td>112.0</td>\n",
       "      <td>260.0</td>\n",
       "      <td>0.301075</td>\n",
       "      <td>0.698925</td>\n",
       "    </tr>\n",
       "    <tr>\n",
       "      <th>107-299748</th>\n",
       "      <td>POLYGON ((-119.27390 35.89167, -119.27343 35.8...</td>\n",
       "      <td>POINT (-119.27041 35.88378)</td>\n",
       "      <td>573.0</td>\n",
       "      <td>76.0</td>\n",
       "      <td>0.882897</td>\n",
       "      <td>0.117103</td>\n",
       "    </tr>\n",
       "    <tr>\n",
       "      <th>107-199811</th>\n",
       "      <td>POLYGON ((-119.11627 36.12737, -119.11625 36.1...</td>\n",
       "      <td>POINT (-119.16642 36.12486)</td>\n",
       "      <td>19.0</td>\n",
       "      <td>61.0</td>\n",
       "      <td>0.237500</td>\n",
       "      <td>0.762500</td>\n",
       "    </tr>\n",
       "  </tbody>\n",
       "</table>\n",
       "</div>"
      ],
      "text/plain": [
       "                                                     geometry  \\\n",
       "pct16                                                           \n",
       "107-504802  MULTIPOLYGON (((-119.05812 36.05852, -119.0581...   \n",
       "107-102802  POLYGON ((-119.13270 36.29711, -119.13229 36.2...   \n",
       "107-499822  MULTIPOLYGON (((-118.96650 36.56958, -118.9667...   \n",
       "107-299748  POLYGON ((-119.27390 35.89167, -119.27343 35.8...   \n",
       "107-199811  POLYGON ((-119.11627 36.12737, -119.11625 36.1...   \n",
       "\n",
       "                               centroid  abs_clinton  abs_trump  per_clinton  \\\n",
       "pct16                                                                          \n",
       "107-504802  POINT (-119.06309 36.06087)         70.0      110.0     0.388889   \n",
       "107-102802  POINT (-119.13494 36.29483)         56.0      159.0     0.260465   \n",
       "107-499822  POINT (-118.76676 36.64774)        112.0      260.0     0.301075   \n",
       "107-299748  POINT (-119.27041 35.88378)        573.0       76.0     0.882897   \n",
       "107-199811  POINT (-119.16642 36.12486)         19.0       61.0     0.237500   \n",
       "\n",
       "            per_trump  \n",
       "pct16                  \n",
       "107-504802   0.611111  \n",
       "107-102802   0.739535  \n",
       "107-499822   0.698925  \n",
       "107-299748   0.117103  \n",
       "107-199811   0.762500  "
      ]
     },
     "execution_count": 2,
     "metadata": {},
     "output_type": "execute_result"
    }
   ],
   "source": [
    "gdf = load_data('107-tulare')\n",
    "# gdf = load_data('025-imperial')\n",
    "gdf.head()"
   ]
  },
  {
   "cell_type": "code",
   "execution_count": 1,
   "id": "70ee8b38",
   "metadata": {},
   "outputs": [
    {
     "ename": "NameError",
     "evalue": "name 'gdf' is not defined",
     "output_type": "error",
     "traceback": [
      "\u001b[0;31m---------------------------------------------------------------------------\u001b[0m",
      "\u001b[0;31mNameError\u001b[0m                                 Traceback (most recent call last)",
      "Input \u001b[0;32mIn [1]\u001b[0m, in \u001b[0;36m<cell line: 1>\u001b[0;34m()\u001b[0m\n\u001b[0;32m----> 1\u001b[0m trump_gdf \u001b[38;5;241m=\u001b[39m \u001b[43mgdf\u001b[49m[gdf[\u001b[38;5;124m'\u001b[39m\u001b[38;5;124mabs_trump\u001b[39m\u001b[38;5;124m'\u001b[39m] \u001b[38;5;241m<\u001b[39m gdf[\u001b[38;5;124m'\u001b[39m\u001b[38;5;124mabs_clinton\u001b[39m\u001b[38;5;124m'\u001b[39m]]\n\u001b[1;32m      2\u001b[0m points \u001b[38;5;241m=\u001b[39m [[x, y] \u001b[38;5;28;01mfor\u001b[39;00m x, y \u001b[38;5;129;01min\u001b[39;00m \u001b[38;5;28mzip\u001b[39m(trump_gdf[\u001b[38;5;124m'\u001b[39m\u001b[38;5;124mcentroid\u001b[39m\u001b[38;5;124m'\u001b[39m]\u001b[38;5;241m.\u001b[39mvalues\u001b[38;5;241m.\u001b[39mx, trump_gdf[\u001b[38;5;124m'\u001b[39m\u001b[38;5;124mcentroid\u001b[39m\u001b[38;5;124m'\u001b[39m]\u001b[38;5;241m.\u001b[39mvalues\u001b[38;5;241m.\u001b[39my)]\n",
      "\u001b[0;31mNameError\u001b[0m: name 'gdf' is not defined"
     ]
    }
   ],
   "source": [
    "trump_gdf = gdf[gdf['abs_trump'] > gdf['abs_clinton']]\n",
    "points = [[x, y] for x, y in zip(trump_gdf['centroid'].values.x, trump_gdf['centroid'].values.y)]"
   ]
  },
  {
   "cell_type": "code",
   "execution_count": 2,
   "id": "2ec9491e",
   "metadata": {},
   "outputs": [
    {
     "ename": "NameError",
     "evalue": "name 'gudhi' is not defined",
     "output_type": "error",
     "traceback": [
      "\u001b[0;31m---------------------------------------------------------------------------\u001b[0m",
      "\u001b[0;31mNameError\u001b[0m                                 Traceback (most recent call last)",
      "Input \u001b[0;32mIn [2]\u001b[0m, in \u001b[0;36m<cell line: 1>\u001b[0;34m()\u001b[0m\n\u001b[0;32m----> 1\u001b[0m alpha_complex \u001b[38;5;241m=\u001b[39m \u001b[43mgudhi\u001b[49m\u001b[38;5;241m.\u001b[39mAlphaComplex(points)\n\u001b[1;32m      2\u001b[0m simplex_tree \u001b[38;5;241m=\u001b[39m alpha_complex\u001b[38;5;241m.\u001b[39mcreate_simplex_tree()\n\u001b[1;32m      4\u001b[0m persistance \u001b[38;5;241m=\u001b[39m persistance_1D_with_loops(simplex_tree)\n",
      "\u001b[0;31mNameError\u001b[0m: name 'gudhi' is not defined"
     ]
    }
   ],
   "source": [
    "alpha_complex = gudhi.AlphaComplex(points)\n",
    "simplex_tree = alpha_complex.create_simplex_tree()\n",
    "\n",
    "persistance = persistance_1D_with_loops(simplex_tree)\n",
    "plot_loops(gdf, points, persistance)"
   ]
  },
  {
   "cell_type": "code",
   "execution_count": null,
   "id": "e728ddda",
   "metadata": {},
   "outputs": [],
   "source": []
  },
  {
   "cell_type": "code",
   "execution_count": null,
   "id": "e4e2eef7",
   "metadata": {},
   "outputs": [],
   "source": []
  },
  {
   "cell_type": "code",
   "execution_count": null,
   "id": "87e26b22",
   "metadata": {},
   "outputs": [],
   "source": []
  },
  {
   "cell_type": "code",
   "execution_count": null,
   "id": "b62518b6",
   "metadata": {},
   "outputs": [],
   "source": []
  },
  {
   "cell_type": "code",
   "execution_count": null,
   "id": "e137a944",
   "metadata": {},
   "outputs": [],
   "source": []
  },
  {
   "cell_type": "code",
   "execution_count": null,
   "id": "f77be4cb",
   "metadata": {},
   "outputs": [],
   "source": []
  },
  {
   "cell_type": "code",
   "execution_count": null,
   "id": "c79a626b",
   "metadata": {},
   "outputs": [],
   "source": []
  },
  {
   "cell_type": "code",
   "execution_count": null,
   "id": "9e4bb61c",
   "metadata": {},
   "outputs": [],
   "source": []
  },
  {
   "cell_type": "code",
   "execution_count": null,
   "id": "e0336997",
   "metadata": {},
   "outputs": [],
   "source": []
  },
  {
   "cell_type": "code",
   "execution_count": null,
   "id": "a6ba00a2",
   "metadata": {},
   "outputs": [],
   "source": []
  },
  {
   "cell_type": "code",
   "execution_count": null,
   "id": "2e9c7c90",
   "metadata": {},
   "outputs": [],
   "source": []
  },
  {
   "cell_type": "code",
   "execution_count": null,
   "id": "6228dba9",
   "metadata": {},
   "outputs": [],
   "source": []
  },
  {
   "cell_type": "code",
   "execution_count": null,
   "id": "b926760e",
   "metadata": {},
   "outputs": [],
   "source": []
  }
 ],
 "metadata": {
  "kernelspec": {
   "display_name": "Python 3 (ipykernel)",
   "language": "python",
   "name": "python3"
  },
  "language_info": {
   "codemirror_mode": {
    "name": "ipython",
    "version": 3
   },
   "file_extension": ".py",
   "mimetype": "text/x-python",
   "name": "python",
   "nbconvert_exporter": "python",
   "pygments_lexer": "ipython3",
   "version": "3.8.13"
  }
 },
 "nbformat": 4,
 "nbformat_minor": 5
}
