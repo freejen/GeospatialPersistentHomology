{
 "cells": [
  {
   "cell_type": "code",
   "execution_count": 12,
   "id": "93937f02",
   "metadata": {},
   "outputs": [],
   "source": [
    "import geopandas as gpd\n",
    "import pandas as pd\n",
    "import numpy as np\n",
    "import matplotlib.pyplot as plt\n",
    "import gudhi\n",
    "from utils import plot_simplices, get_adjacency_simplex_tree"
   ]
  },
  {
   "cell_type": "code",
   "execution_count": 13,
   "id": "02983cfa",
   "metadata": {},
   "outputs": [],
   "source": [
    "SHAPE_PATH = \"dataset/shapefiles/025-imperial.shp\"\n",
    "VOTES_PATH = \"dataset/final-results/025-imperial.csv\"\n",
    "\n",
    "shapes_gdf = gpd.read_file(SHAPE_PATH)\n",
    "votes_df = pd.read_csv(VOTES_PATH)"
   ]
  },
  {
   "cell_type": "code",
   "execution_count": 14,
   "id": "80138443",
   "metadata": {},
   "outputs": [],
   "source": [
    "shapes_gdf = shapes_gdf.set_index('pct16').drop('area', axis=1)\n",
    "votes_df = votes_df.set_index('pct16')[['pres_clinton', 'pres_trump']]\n",
    "gdf = shapes_gdf.join(votes_df)"
   ]
  },
  {
   "cell_type": "code",
   "execution_count": 15,
   "id": "2400a8d4",
   "metadata": {},
   "outputs": [],
   "source": [
    "def delta(votes_clinton, votes_trump):\n",
    "    sum_votes = votes_clinton + votes_trump\n",
    "    if sum_votes == 0:\n",
    "        return 0\n",
    "    \n",
    "    return abs(votes_clinton - votes_trump)/sum_votes"
   ]
  },
  {
   "cell_type": "code",
   "execution_count": 16,
   "id": "a77f486f",
   "metadata": {},
   "outputs": [],
   "source": [
    "gdf = gdf[gdf['pres_clinton'] < gdf['pres_trump']]\n",
    "pct_id_to_vert = {}\n",
    "vert_to_pct_id = [None] * len(gdf)\n",
    "vert = 0\n",
    "for index, row in gdf.iterrows():\n",
    "    gdf.at[index, 'delta'] = delta(row['pres_clinton'], row['pres_trump'])\n",
    "    pct_id_to_vert[index] = vert\n",
    "    vert_to_pct_id[vert] = index\n",
    "    vert += 1"
   ]
  },
  {
   "cell_type": "code",
   "execution_count": 58,
   "id": "f1f2676b",
   "metadata": {},
   "outputs": [],
   "source": [
    "simplex_tree = get_adjacency_simplex_tree(gdf, pct_id_to_vert)"
   ]
  },
  {
   "cell_type": "code",
   "execution_count": 59,
   "id": "28207e24",
   "metadata": {},
   "outputs": [
    {
     "name": "stdout",
     "output_type": "stream",
     "text": [
      "[24] -> 0.05\n",
      "[34] -> 0.05\n",
      "[40] -> 0.05\n",
      "[41] -> 0.05\n",
      "[47] -> 0.05\n",
      "[50] -> 0.05\n",
      "[45] -> 0.35\n",
      "[49] -> 0.35\n",
      "[34, 49] -> 0.35\n",
      "[41, 49] -> 0.35\n",
      "[18] -> 0.40\n",
      "[32] -> 0.40\n",
      "[37] -> 0.45\n",
      "[18, 37] -> 0.45\n",
      "[14] -> 0.50\n",
      "[15] -> 0.50\n",
      "[28] -> 0.50\n",
      "[14, 28] -> 0.50\n",
      "[30] -> 0.50\n",
      "[38] -> 0.50\n",
      "[17] -> 0.55\n",
      "[14, 17] -> 0.55\n",
      "[25] -> 0.55\n",
      "[17, 28] -> 0.55\n",
      "[14, 17, 28] -> 0.55\n",
      "[35] -> 0.55\n",
      "[27] -> 0.60\n",
      "[39] -> 0.60\n",
      "[34, 39] -> 0.60\n",
      "[13] -> 0.65\n",
      "[48] -> 0.65\n",
      "[25, 48] -> 0.65\n",
      "[28, 48] -> 0.65\n",
      "[44] -> 0.70\n",
      "[44, 45] -> 0.70\n",
      "[2] -> 0.75\n",
      "[5] -> 0.75\n",
      "[6] -> 0.75\n",
      "[8] -> 0.75\n",
      "[11] -> 0.75\n",
      "[22] -> 0.75\n",
      "[14, 22] -> 0.75\n",
      "[17, 22] -> 0.75\n",
      "[14, 17, 22] -> 0.75\n",
      "[31] -> 0.75\n",
      "[2, 38] -> 0.75\n",
      "[8, 45] -> 0.75\n",
      "[3] -> 0.80\n",
      "[3, 38] -> 0.80\n",
      "[42] -> 0.80\n",
      "[11, 42] -> 0.80\n",
      "[13, 42] -> 0.80\n",
      "[18, 42] -> 0.80\n",
      "[43] -> 0.80\n",
      "[6, 43] -> 0.80\n",
      "[30, 43] -> 0.80\n",
      "[0] -> 0.85\n",
      "[7] -> 0.85\n",
      "[5, 7] -> 0.85\n",
      "[12] -> 0.85\n",
      "[11, 12] -> 0.85\n",
      "[20] -> 0.85\n",
      "[18, 20] -> 0.85\n",
      "[21] -> 0.85\n",
      "[0, 22] -> 0.85\n",
      "[23] -> 0.85\n",
      "[29] -> 0.85\n",
      "[3, 29] -> 0.85\n",
      "[15, 29] -> 0.85\n",
      "[23, 31] -> 0.85\n",
      "[23, 35] -> 0.85\n",
      "[23, 38] -> 0.85\n",
      "[29, 39] -> 0.85\n",
      "[12, 41] -> 0.85\n",
      "[20, 42] -> 0.85\n",
      "[18, 20, 42] -> 0.85\n",
      "[46] -> 0.85\n",
      "[14, 46] -> 0.85\n",
      "[28, 46] -> 0.85\n",
      "[14, 28, 46] -> 0.85\n",
      "[30, 46] -> 0.85\n",
      "[43, 46] -> 0.85\n",
      "[30, 43, 46] -> 0.85\n",
      "[46, 48] -> 0.85\n",
      "[28, 46, 48] -> 0.85\n",
      "[7, 50] -> 0.85\n",
      "[10] -> 0.90\n",
      "[16] -> 0.90\n",
      "[3, 16] -> 0.90\n",
      "[26] -> 0.90\n",
      "[22, 26] -> 0.90\n",
      "[25, 26] -> 0.90\n",
      "[26, 27] -> 0.90\n",
      "[16, 29] -> 0.90\n",
      "[3, 16, 29] -> 0.90\n",
      "[36] -> 0.90\n",
      "[23, 36] -> 0.90\n",
      "[16, 38] -> 0.90\n",
      "[1] -> 0.95\n",
      "[4] -> 0.95\n",
      "[4, 11] -> 0.95\n",
      "[4, 12] -> 0.95\n",
      "[4, 11, 12] -> 0.95\n",
      "[19] -> 0.95\n",
      "[4, 19] -> 0.95\n",
      "[1, 25] -> 0.95\n",
      "[19, 31] -> 0.95\n",
      "[33] -> 0.95\n",
      "[23, 33] -> 0.95\n",
      "[33, 35] -> 0.95\n",
      "[23, 33, 35] -> 0.95\n",
      "[19, 40] -> 0.95\n",
      "[1, 46] -> 0.95\n",
      "[1, 48] -> 0.95\n",
      "[1, 25, 48] -> 0.95\n",
      "[1, 46, 48] -> 0.95\n",
      "[9] -> 1.00\n",
      "[9, 16] -> 1.00\n"
     ]
    }
   ],
   "source": [
    "fmt = '%s -> %.2f'\n",
    "for filtered_value in simplex_tree.get_filtration():\n",
    "    print(fmt % tuple(filtered_value))"
   ]
  },
  {
   "cell_type": "code",
   "execution_count": 60,
   "id": "418a0efc",
   "metadata": {},
   "outputs": [],
   "source": [
    "gdf['centroid'] = gdf.to_crs('epsg:3785').centroid.to_crs(gdf.crs)\n",
    "points = [[x, y] for x, y in zip(gdf['centroid'].values.x, gdf['centroid'].values.y)]"
   ]
  },
  {
   "cell_type": "code",
   "execution_count": 61,
   "id": "1da56346",
   "metadata": {},
   "outputs": [
    {
     "data": {
      "image/png": "[encoded data removed]",
      "text/plain": [
       "<Figure size 432x288 with 1 Axes>"
      ]
     },
     "metadata": {
      "needs_background": "light"
     },
     "output_type": "display_data"
    }
   ],
   "source": [
    "plot_simplices(points, simplex_tree, 0.06)"
   ]
  },
  {
   "cell_type": "code",
   "execution_count": 62,
   "id": "c1770f50",
   "metadata": {},
   "outputs": [
    {
     "data": {
      "image/png": "[encoded data removed]",
      "text/plain": [
       "<Figure size 432x288 with 1 Axes>"
      ]
     },
     "metadata": {
      "needs_background": "light"
     },
     "output_type": "display_data"
    }
   ],
   "source": [
    "plot_simplices(points, simplex_tree, 2)"
   ]
  },
  {
   "cell_type": "code",
   "execution_count": null,
   "id": "194aae69",
   "metadata": {},
   "outputs": [],
   "source": []
  }
 ],
 "metadata": {
  "kernelspec": {
   "display_name": "Python 3 (ipykernel)",
   "language": "python",
   "name": "python3"
  },
  "language_info": {
   "codemirror_mode": {
    "name": "ipython",
    "version": 3
   },
   "file_extension": ".py",
   "mimetype": "text/x-python",
   "name": "python",
   "nbconvert_exporter": "python",
   "pygments_lexer": "ipython3",
   "version": "3.8.13"
  }
 },
 "nbformat": 4,
 "nbformat_minor": 5
}
