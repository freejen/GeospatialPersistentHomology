{
 "cells": [
  {
   "cell_type": "code",
   "execution_count": 19,
   "id": "321048c8",
   "metadata": {},
   "outputs": [],
   "source": [
    "import geopandas as gpd\n",
    "import pandas as pd\n",
    "import matplotlib.pyplot as plt"
   ]
  },
  {
   "cell_type": "code",
   "execution_count": 20,
   "id": "e2c5a087",
   "metadata": {},
   "outputs": [],
   "source": [
    "SHAPE_PATH = \"dataset/shapefiles/025-imperial.shp\"\n",
    "# SHAPE_PATH = \"dataset/shapefiles/003-alpine.shp\"\n",
    "\n",
    "VOTES_PATH = \"dataset/final-results/025-imperial.csv\"\n",
    "\n",
    "shapes_gdf = gpd.read_file(SHAPE_PATH)\n",
    "votes_df = pd.read_csv(VOTES_PATH)"
   ]
  },
  {
   "cell_type": "code",
   "execution_count": 21,
   "id": "a1fdf0dc",
   "metadata": {
    "scrolled": false
   },
   "outputs": [],
   "source": [
    "shapes_gdf = shapes_gdf.set_index('pct16').drop('area', axis=1)\n",
    "votes_df = votes_df.set_index('pct16')[['pres_clinton', 'pres_trump']]\n",
    "gdf = shapes_gdf.join(votes_df)\n",
    "gdf = gdf.rename(columns={'pres_clinton': 'abs_clinton', 'pres_trump': 'abs_trump'})"
   ]
  },
  {
   "cell_type": "code",
   "execution_count": 22,
   "id": "eb689591",
   "metadata": {},
   "outputs": [],
   "source": [
    "gdf['per_clinton'] = gdf['abs_clinton'] / (gdf['abs_clinton'] + gdf['abs_trump'])\n",
    "gdf['per_trump'] = gdf['abs_trump'] / (gdf['abs_clinton'] + gdf['abs_trump'])"
   ]
  },
  {
   "cell_type": "code",
   "execution_count": 23,
   "id": "330edee3",
   "metadata": {},
   "outputs": [
    {
     "data": {
      "text/html": [
       "<div>\n",
       "<style scoped>\n",
       "    .dataframe tbody tr th:only-of-type {\n",
       "        vertical-align: middle;\n",
       "    }\n",
       "\n",
       "    .dataframe tbody tr th {\n",
       "        vertical-align: top;\n",
       "    }\n",
       "\n",
       "    .dataframe thead th {\n",
       "        text-align: right;\n",
       "    }\n",
       "</style>\n",
       "<table border=\"1\" class=\"dataframe\">\n",
       "  <thead>\n",
       "    <tr style=\"text-align: right;\">\n",
       "      <th></th>\n",
       "      <th>geometry</th>\n",
       "      <th>abs_clinton</th>\n",
       "      <th>abs_trump</th>\n",
       "      <th>per_clinton</th>\n",
       "      <th>per_trump</th>\n",
       "    </tr>\n",
       "    <tr>\n",
       "      <th>pct16</th>\n",
       "      <th></th>\n",
       "      <th></th>\n",
       "      <th></th>\n",
       "      <th></th>\n",
       "      <th></th>\n",
       "    </tr>\n",
       "  </thead>\n",
       "  <tbody>\n",
       "    <tr>\n",
       "      <th>025-281045</th>\n",
       "      <td>POLYGON ((-115.65670 32.69474, -115.65216 32.6...</td>\n",
       "      <td>13.0</td>\n",
       "      <td>0.0</td>\n",
       "      <td>1.000000</td>\n",
       "      <td>0.000000</td>\n",
       "    </tr>\n",
       "    <tr>\n",
       "      <th>025-245228</th>\n",
       "      <td>POLYGON ((-115.56954 32.77721, -115.57100 32.7...</td>\n",
       "      <td>314.0</td>\n",
       "      <td>184.0</td>\n",
       "      <td>0.630522</td>\n",
       "      <td>0.369478</td>\n",
       "    </tr>\n",
       "    <tr>\n",
       "      <th>025-245226</th>\n",
       "      <td>POLYGON ((-115.56105 32.77390, -115.56100 32.7...</td>\n",
       "      <td>623.0</td>\n",
       "      <td>377.0</td>\n",
       "      <td>0.623000</td>\n",
       "      <td>0.377000</td>\n",
       "    </tr>\n",
       "    <tr>\n",
       "      <th>025-245225</th>\n",
       "      <td>POLYGON ((-115.55464 32.77838, -115.55681 32.7...</td>\n",
       "      <td>119.0</td>\n",
       "      <td>56.0</td>\n",
       "      <td>0.680000</td>\n",
       "      <td>0.320000</td>\n",
       "    </tr>\n",
       "    <tr>\n",
       "      <th>025-245224</th>\n",
       "      <td>MULTIPOLYGON (((-115.54322 32.77380, -115.5494...</td>\n",
       "      <td>717.0</td>\n",
       "      <td>193.0</td>\n",
       "      <td>0.787912</td>\n",
       "      <td>0.212088</td>\n",
       "    </tr>\n",
       "  </tbody>\n",
       "</table>\n",
       "</div>"
      ],
      "text/plain": [
       "                                                     geometry  abs_clinton  \\\n",
       "pct16                                                                        \n",
       "025-281045  POLYGON ((-115.65670 32.69474, -115.65216 32.6...         13.0   \n",
       "025-245228  POLYGON ((-115.56954 32.77721, -115.57100 32.7...        314.0   \n",
       "025-245226  POLYGON ((-115.56105 32.77390, -115.56100 32.7...        623.0   \n",
       "025-245225  POLYGON ((-115.55464 32.77838, -115.55681 32.7...        119.0   \n",
       "025-245224  MULTIPOLYGON (((-115.54322 32.77380, -115.5494...        717.0   \n",
       "\n",
       "            abs_trump  per_clinton  per_trump  \n",
       "pct16                                          \n",
       "025-281045        0.0     1.000000   0.000000  \n",
       "025-245228      184.0     0.630522   0.369478  \n",
       "025-245226      377.0     0.623000   0.377000  \n",
       "025-245225       56.0     0.680000   0.320000  \n",
       "025-245224      193.0     0.787912   0.212088  "
      ]
     },
     "execution_count": 23,
     "metadata": {},
     "output_type": "execute_result"
    }
   ],
   "source": [
    "gdf.head()"
   ]
  },
  {
   "cell_type": "code",
   "execution_count": 24,
   "id": "5db11079",
   "metadata": {},
   "outputs": [
    {
     "data": {
      "text/plain": [
       "<AxesSubplot:>"
      ]
     },
     "execution_count": 24,
     "metadata": {},
     "output_type": "execute_result"
    },
    {
     "data": {
      "image/png": "[encoded data removed]",
      "text/plain": [
       "<Figure size 864x504 with 2 Axes>"
      ]
     },
     "metadata": {
      "needs_background": "light"
     },
     "output_type": "display_data"
    }
   ],
   "source": [
    "gdf.plot(\"per_clinton\", legend=True, cmap='RdBu', figsize=(12,7))"
   ]
  },
  {
   "cell_type": "code",
   "execution_count": null,
   "id": "d436ccb3",
   "metadata": {},
   "outputs": [],
   "source": []
  },
  {
   "cell_type": "code",
   "execution_count": null,
   "id": "26d29af4",
   "metadata": {},
   "outputs": [],
   "source": []
  },
  {
   "cell_type": "code",
   "execution_count": null,
   "id": "2bb81ad3",
   "metadata": {},
   "outputs": [],
   "source": []
  },
  {
   "cell_type": "code",
   "execution_count": null,
   "id": "bbe9604f",
   "metadata": {},
   "outputs": [],
   "source": []
  },
  {
   "cell_type": "code",
   "execution_count": null,
   "id": "0373cb67",
   "metadata": {},
   "outputs": [],
   "source": []
  },
  {
   "cell_type": "code",
   "execution_count": null,
   "id": "6ee5ca44",
   "metadata": {},
   "outputs": [],
   "source": []
  },
  {
   "cell_type": "code",
   "execution_count": null,
   "id": "bd98ed83",
   "metadata": {},
   "outputs": [],
   "source": []
  },
  {
   "cell_type": "code",
   "execution_count": null,
   "id": "70d79827",
   "metadata": {},
   "outputs": [],
   "source": []
  },
  {
   "cell_type": "code",
   "execution_count": null,
   "id": "d7414b06",
   "metadata": {},
   "outputs": [],
   "source": []
  },
  {
   "cell_type": "code",
   "execution_count": null,
   "id": "47884d19",
   "metadata": {},
   "outputs": [],
   "source": []
  },
  {
   "cell_type": "code",
   "execution_count": null,
   "id": "4c4f51e8",
   "metadata": {},
   "outputs": [],
   "source": []
  },
  {
   "cell_type": "code",
   "execution_count": null,
   "id": "d1c04f76",
   "metadata": {},
   "outputs": [],
   "source": []
  },
  {
   "cell_type": "code",
   "execution_count": null,
   "id": "3d51f833",
   "metadata": {},
   "outputs": [],
   "source": []
  },
  {
   "cell_type": "code",
   "execution_count": null,
   "id": "a045b825",
   "metadata": {},
   "outputs": [],
   "source": []
  },
  {
   "cell_type": "code",
   "execution_count": null,
   "id": "438ce47a",
   "metadata": {},
   "outputs": [],
   "source": []
  }
 ],
 "metadata": {
  "kernelspec": {
   "display_name": "Python 3 (ipykernel)",
   "language": "python",
   "name": "python3"
  },
  "language_info": {
   "codemirror_mode": {
    "name": "ipython",
    "version": 3
   },
   "file_extension": ".py",
   "mimetype": "text/x-python",
   "name": "python",
   "nbconvert_exporter": "python",
   "pygments_lexer": "ipython3",
   "version": "3.8.10"
  }
 },
 "nbformat": 4,
 "nbformat_minor": 5
}
